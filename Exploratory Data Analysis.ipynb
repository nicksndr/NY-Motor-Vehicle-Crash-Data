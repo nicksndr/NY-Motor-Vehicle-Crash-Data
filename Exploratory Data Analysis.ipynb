{
 "cells": [
  {
   "cell_type": "markdown",
   "metadata": {},
   "source": [
    "<h1> Exploratory Data Analysis </h1>"
   ]
  },
  {
   "cell_type": "code",
   "execution_count": 73,
   "metadata": {},
   "outputs": [],
   "source": [
    "import pandas as pd\n",
    "import numpy as np\n",
    "import matplotlib.pyplot as plt\n",
    "import seaborn as sns\n",
    "import sklearn\n",
    "from sklearn.model_selection import train_test_split\n",
    "from sklearn.linear_model import LogisticRegression\n",
    "from sklearn.metrics import confusion_matrix\n",
    "\n",
    "from sklearn.metrics import accuracy_score, precision_score, recall_score, f1_score, plot_confusion_matrix\n",
    "from sklearn.metrics import confusion_matrix\n",
    "from sklearn import metrics\n",
    "\n",
    "import datetime\n",
    "\n",
    "import warnings\n",
    "warnings.filterwarnings('ignore')\n"
   ]
  },
  {
   "cell_type": "code",
   "execution_count": 74,
   "metadata": {},
   "outputs": [],
   "source": [
    "df = pd.read_csv(\"./cleaned_data.csv\", index_col=0)"
   ]
  },
  {
   "cell_type": "code",
   "execution_count": 75,
   "metadata": {},
   "outputs": [
    {
     "data": {
      "text/html": [
       "<div>\n",
       "<style scoped>\n",
       "    .dataframe tbody tr th:only-of-type {\n",
       "        vertical-align: middle;\n",
       "    }\n",
       "\n",
       "    .dataframe tbody tr th {\n",
       "        vertical-align: top;\n",
       "    }\n",
       "\n",
       "    .dataframe thead th {\n",
       "        text-align: right;\n",
       "    }\n",
       "</style>\n",
       "<table border=\"1\" class=\"dataframe\">\n",
       "  <thead>\n",
       "    <tr style=\"text-align: right;\">\n",
       "      <th></th>\n",
       "      <th>CRASH DATE</th>\n",
       "      <th>CRASH TIME</th>\n",
       "      <th>BOROUGH</th>\n",
       "      <th>LATITUDE</th>\n",
       "      <th>LONGITUDE</th>\n",
       "      <th>NUMBER OF PERSONS INJURED</th>\n",
       "      <th>NUMBER OF PERSONS KILLED</th>\n",
       "      <th>NUMBER OF PEDESTRIANS INJURED</th>\n",
       "      <th>NUMBER OF PEDESTRIANS KILLED</th>\n",
       "      <th>NUMBER OF CYCLIST INJURED</th>\n",
       "      <th>NUMBER OF CYCLIST KILLED</th>\n",
       "      <th>NUMBER OF MOTORIST INJURED</th>\n",
       "      <th>NUMBER OF MOTORIST KILLED</th>\n",
       "    </tr>\n",
       "  </thead>\n",
       "  <tbody>\n",
       "    <tr>\n",
       "      <th>511205</th>\n",
       "      <td>08/02/2018</td>\n",
       "      <td>15:40</td>\n",
       "      <td>MANHATTAN</td>\n",
       "      <td>40.622476</td>\n",
       "      <td>-73.730705</td>\n",
       "      <td>0.0</td>\n",
       "      <td>0.0</td>\n",
       "      <td>0.0</td>\n",
       "      <td>0.0</td>\n",
       "      <td>0.0</td>\n",
       "      <td>0.0</td>\n",
       "      <td>0.0</td>\n",
       "      <td>0.0</td>\n",
       "    </tr>\n",
       "    <tr>\n",
       "      <th>425974</th>\n",
       "      <td>12/22/2018</td>\n",
       "      <td>22:30</td>\n",
       "      <td>QUEENS</td>\n",
       "      <td>40.761780</td>\n",
       "      <td>-73.843590</td>\n",
       "      <td>0.0</td>\n",
       "      <td>0.0</td>\n",
       "      <td>0.0</td>\n",
       "      <td>0.0</td>\n",
       "      <td>0.0</td>\n",
       "      <td>0.0</td>\n",
       "      <td>0.0</td>\n",
       "      <td>0.0</td>\n",
       "    </tr>\n",
       "    <tr>\n",
       "      <th>492340</th>\n",
       "      <td>09/07/2018</td>\n",
       "      <td>9:00</td>\n",
       "      <td>BROOKLYN</td>\n",
       "      <td>40.674683</td>\n",
       "      <td>-73.894600</td>\n",
       "      <td>0.0</td>\n",
       "      <td>0.0</td>\n",
       "      <td>0.0</td>\n",
       "      <td>0.0</td>\n",
       "      <td>0.0</td>\n",
       "      <td>0.0</td>\n",
       "      <td>0.0</td>\n",
       "      <td>0.0</td>\n",
       "    </tr>\n",
       "    <tr>\n",
       "      <th>10255</th>\n",
       "      <td>05/16/2021</td>\n",
       "      <td>15:00</td>\n",
       "      <td>BROOKLYN</td>\n",
       "      <td>40.666183</td>\n",
       "      <td>-73.868660</td>\n",
       "      <td>0.0</td>\n",
       "      <td>0.0</td>\n",
       "      <td>0.0</td>\n",
       "      <td>0.0</td>\n",
       "      <td>0.0</td>\n",
       "      <td>0.0</td>\n",
       "      <td>0.0</td>\n",
       "      <td>0.0</td>\n",
       "    </tr>\n",
       "    <tr>\n",
       "      <th>503164</th>\n",
       "      <td>09/01/2018</td>\n",
       "      <td>15:02</td>\n",
       "      <td>BRONX</td>\n",
       "      <td>40.904140</td>\n",
       "      <td>-73.905014</td>\n",
       "      <td>0.0</td>\n",
       "      <td>0.0</td>\n",
       "      <td>0.0</td>\n",
       "      <td>0.0</td>\n",
       "      <td>0.0</td>\n",
       "      <td>0.0</td>\n",
       "      <td>0.0</td>\n",
       "      <td>0.0</td>\n",
       "    </tr>\n",
       "  </tbody>\n",
       "</table>\n",
       "</div>"
      ],
      "text/plain": [
       "        CRASH DATE CRASH TIME    BOROUGH   LATITUDE  LONGITUDE  \\\n",
       "511205  08/02/2018      15:40  MANHATTAN  40.622476 -73.730705   \n",
       "425974  12/22/2018      22:30     QUEENS  40.761780 -73.843590   \n",
       "492340  09/07/2018       9:00   BROOKLYN  40.674683 -73.894600   \n",
       "10255   05/16/2021      15:00   BROOKLYN  40.666183 -73.868660   \n",
       "503164  09/01/2018      15:02      BRONX  40.904140 -73.905014   \n",
       "\n",
       "        NUMBER OF PERSONS INJURED  NUMBER OF PERSONS KILLED  \\\n",
       "511205                        0.0                       0.0   \n",
       "425974                        0.0                       0.0   \n",
       "492340                        0.0                       0.0   \n",
       "10255                         0.0                       0.0   \n",
       "503164                        0.0                       0.0   \n",
       "\n",
       "        NUMBER OF PEDESTRIANS INJURED  NUMBER OF PEDESTRIANS KILLED  \\\n",
       "511205                            0.0                           0.0   \n",
       "425974                            0.0                           0.0   \n",
       "492340                            0.0                           0.0   \n",
       "10255                             0.0                           0.0   \n",
       "503164                            0.0                           0.0   \n",
       "\n",
       "        NUMBER OF CYCLIST INJURED  NUMBER OF CYCLIST KILLED  \\\n",
       "511205                        0.0                       0.0   \n",
       "425974                        0.0                       0.0   \n",
       "492340                        0.0                       0.0   \n",
       "10255                         0.0                       0.0   \n",
       "503164                        0.0                       0.0   \n",
       "\n",
       "        NUMBER OF MOTORIST INJURED  NUMBER OF MOTORIST KILLED  \n",
       "511205                         0.0                        0.0  \n",
       "425974                         0.0                        0.0  \n",
       "492340                         0.0                        0.0  \n",
       "10255                          0.0                        0.0  \n",
       "503164                         0.0                        0.0  "
      ]
     },
     "execution_count": 75,
     "metadata": {},
     "output_type": "execute_result"
    }
   ],
   "source": [
    "df.head()"
   ]
  },
  {
   "cell_type": "code",
   "execution_count": 76,
   "metadata": {},
   "outputs": [
    {
     "data": {
      "text/plain": [
       "(32382, 13)"
      ]
     },
     "execution_count": 76,
     "metadata": {},
     "output_type": "execute_result"
    }
   ],
   "source": [
    "df.shape"
   ]
  },
  {
   "cell_type": "code",
   "execution_count": 77,
   "metadata": {},
   "outputs": [
    {
     "data": {
      "text/plain": [
       "Index(['CRASH DATE', 'CRASH TIME', 'BOROUGH', 'LATITUDE', 'LONGITUDE',\n",
       "       'NUMBER OF PERSONS INJURED', 'NUMBER OF PERSONS KILLED',\n",
       "       'NUMBER OF PEDESTRIANS INJURED', 'NUMBER OF PEDESTRIANS KILLED',\n",
       "       'NUMBER OF CYCLIST INJURED', 'NUMBER OF CYCLIST KILLED',\n",
       "       'NUMBER OF MOTORIST INJURED', 'NUMBER OF MOTORIST KILLED'],\n",
       "      dtype='object')"
      ]
     },
     "execution_count": 77,
     "metadata": {},
     "output_type": "execute_result"
    }
   ],
   "source": [
    "df.columns"
   ]
  },
  {
   "cell_type": "code",
   "execution_count": 78,
   "metadata": {},
   "outputs": [
    {
     "data": {
      "text/plain": [
       "CRASH DATE                       0\n",
       "CRASH TIME                       0\n",
       "BOROUGH                          0\n",
       "LATITUDE                         0\n",
       "LONGITUDE                        0\n",
       "NUMBER OF PERSONS INJURED        0\n",
       "NUMBER OF PERSONS KILLED         0\n",
       "NUMBER OF PEDESTRIANS INJURED    0\n",
       "NUMBER OF PEDESTRIANS KILLED     0\n",
       "NUMBER OF CYCLIST INJURED        0\n",
       "NUMBER OF CYCLIST KILLED         0\n",
       "NUMBER OF MOTORIST INJURED       0\n",
       "NUMBER OF MOTORIST KILLED        0\n",
       "dtype: int64"
      ]
     },
     "execution_count": 78,
     "metadata": {},
     "output_type": "execute_result"
    }
   ],
   "source": [
    "df.isnull().sum()"
   ]
  },
  {
   "cell_type": "code",
   "execution_count": 79,
   "metadata": {},
   "outputs": [
    {
     "data": {
      "text/html": [
       "<div>\n",
       "<style scoped>\n",
       "    .dataframe tbody tr th:only-of-type {\n",
       "        vertical-align: middle;\n",
       "    }\n",
       "\n",
       "    .dataframe tbody tr th {\n",
       "        vertical-align: top;\n",
       "    }\n",
       "\n",
       "    .dataframe thead th {\n",
       "        text-align: right;\n",
       "    }\n",
       "</style>\n",
       "<table border=\"1\" class=\"dataframe\">\n",
       "  <thead>\n",
       "    <tr style=\"text-align: right;\">\n",
       "      <th></th>\n",
       "      <th>LATITUDE</th>\n",
       "      <th>LONGITUDE</th>\n",
       "      <th>NUMBER OF PERSONS INJURED</th>\n",
       "      <th>NUMBER OF PERSONS KILLED</th>\n",
       "      <th>NUMBER OF PEDESTRIANS INJURED</th>\n",
       "      <th>NUMBER OF PEDESTRIANS KILLED</th>\n",
       "      <th>NUMBER OF CYCLIST INJURED</th>\n",
       "      <th>NUMBER OF CYCLIST KILLED</th>\n",
       "      <th>NUMBER OF MOTORIST INJURED</th>\n",
       "      <th>NUMBER OF MOTORIST KILLED</th>\n",
       "    </tr>\n",
       "  </thead>\n",
       "  <tbody>\n",
       "    <tr>\n",
       "      <th>count</th>\n",
       "      <td>32382.000000</td>\n",
       "      <td>32382.000000</td>\n",
       "      <td>32382.000000</td>\n",
       "      <td>32382.000000</td>\n",
       "      <td>32382.000000</td>\n",
       "      <td>32382.000000</td>\n",
       "      <td>32382.00000</td>\n",
       "      <td>32382.000000</td>\n",
       "      <td>32382.000000</td>\n",
       "      <td>32382.000000</td>\n",
       "    </tr>\n",
       "    <tr>\n",
       "      <th>mean</th>\n",
       "      <td>40.622465</td>\n",
       "      <td>-73.730692</td>\n",
       "      <td>0.306683</td>\n",
       "      <td>0.001328</td>\n",
       "      <td>0.060342</td>\n",
       "      <td>0.000679</td>\n",
       "      <td>0.03715</td>\n",
       "      <td>0.000154</td>\n",
       "      <td>0.205083</td>\n",
       "      <td>0.000494</td>\n",
       "    </tr>\n",
       "    <tr>\n",
       "      <th>std</th>\n",
       "      <td>1.997762</td>\n",
       "      <td>3.624042</td>\n",
       "      <td>0.653562</td>\n",
       "      <td>0.036417</td>\n",
       "      <td>0.249646</td>\n",
       "      <td>0.026057</td>\n",
       "      <td>0.19221</td>\n",
       "      <td>0.012425</td>\n",
       "      <td>0.604765</td>\n",
       "      <td>0.022223</td>\n",
       "    </tr>\n",
       "    <tr>\n",
       "      <th>min</th>\n",
       "      <td>0.000000</td>\n",
       "      <td>-74.251470</td>\n",
       "      <td>0.000000</td>\n",
       "      <td>0.000000</td>\n",
       "      <td>0.000000</td>\n",
       "      <td>0.000000</td>\n",
       "      <td>0.00000</td>\n",
       "      <td>0.000000</td>\n",
       "      <td>0.000000</td>\n",
       "      <td>0.000000</td>\n",
       "    </tr>\n",
       "    <tr>\n",
       "      <th>25%</th>\n",
       "      <td>40.661860</td>\n",
       "      <td>-73.966705</td>\n",
       "      <td>0.000000</td>\n",
       "      <td>0.000000</td>\n",
       "      <td>0.000000</td>\n",
       "      <td>0.000000</td>\n",
       "      <td>0.00000</td>\n",
       "      <td>0.000000</td>\n",
       "      <td>0.000000</td>\n",
       "      <td>0.000000</td>\n",
       "    </tr>\n",
       "    <tr>\n",
       "      <th>50%</th>\n",
       "      <td>40.712502</td>\n",
       "      <td>-73.916760</td>\n",
       "      <td>0.000000</td>\n",
       "      <td>0.000000</td>\n",
       "      <td>0.000000</td>\n",
       "      <td>0.000000</td>\n",
       "      <td>0.00000</td>\n",
       "      <td>0.000000</td>\n",
       "      <td>0.000000</td>\n",
       "      <td>0.000000</td>\n",
       "    </tr>\n",
       "    <tr>\n",
       "      <th>75%</th>\n",
       "      <td>40.766712</td>\n",
       "      <td>-73.858252</td>\n",
       "      <td>0.000000</td>\n",
       "      <td>0.000000</td>\n",
       "      <td>0.000000</td>\n",
       "      <td>0.000000</td>\n",
       "      <td>0.00000</td>\n",
       "      <td>0.000000</td>\n",
       "      <td>0.000000</td>\n",
       "      <td>0.000000</td>\n",
       "    </tr>\n",
       "    <tr>\n",
       "      <th>max</th>\n",
       "      <td>40.912884</td>\n",
       "      <td>0.000000</td>\n",
       "      <td>11.000000</td>\n",
       "      <td>1.000000</td>\n",
       "      <td>4.000000</td>\n",
       "      <td>1.000000</td>\n",
       "      <td>2.00000</td>\n",
       "      <td>1.000000</td>\n",
       "      <td>11.000000</td>\n",
       "      <td>1.000000</td>\n",
       "    </tr>\n",
       "  </tbody>\n",
       "</table>\n",
       "</div>"
      ],
      "text/plain": [
       "           LATITUDE     LONGITUDE  NUMBER OF PERSONS INJURED  \\\n",
       "count  32382.000000  32382.000000               32382.000000   \n",
       "mean      40.622465    -73.730692                   0.306683   \n",
       "std        1.997762      3.624042                   0.653562   \n",
       "min        0.000000    -74.251470                   0.000000   \n",
       "25%       40.661860    -73.966705                   0.000000   \n",
       "50%       40.712502    -73.916760                   0.000000   \n",
       "75%       40.766712    -73.858252                   0.000000   \n",
       "max       40.912884      0.000000                  11.000000   \n",
       "\n",
       "       NUMBER OF PERSONS KILLED  NUMBER OF PEDESTRIANS INJURED  \\\n",
       "count              32382.000000                   32382.000000   \n",
       "mean                   0.001328                       0.060342   \n",
       "std                    0.036417                       0.249646   \n",
       "min                    0.000000                       0.000000   \n",
       "25%                    0.000000                       0.000000   \n",
       "50%                    0.000000                       0.000000   \n",
       "75%                    0.000000                       0.000000   \n",
       "max                    1.000000                       4.000000   \n",
       "\n",
       "       NUMBER OF PEDESTRIANS KILLED  NUMBER OF CYCLIST INJURED  \\\n",
       "count                  32382.000000                32382.00000   \n",
       "mean                       0.000679                    0.03715   \n",
       "std                        0.026057                    0.19221   \n",
       "min                        0.000000                    0.00000   \n",
       "25%                        0.000000                    0.00000   \n",
       "50%                        0.000000                    0.00000   \n",
       "75%                        0.000000                    0.00000   \n",
       "max                        1.000000                    2.00000   \n",
       "\n",
       "       NUMBER OF CYCLIST KILLED  NUMBER OF MOTORIST INJURED  \\\n",
       "count              32382.000000                32382.000000   \n",
       "mean                   0.000154                    0.205083   \n",
       "std                    0.012425                    0.604765   \n",
       "min                    0.000000                    0.000000   \n",
       "25%                    0.000000                    0.000000   \n",
       "50%                    0.000000                    0.000000   \n",
       "75%                    0.000000                    0.000000   \n",
       "max                    1.000000                   11.000000   \n",
       "\n",
       "       NUMBER OF MOTORIST KILLED  \n",
       "count               32382.000000  \n",
       "mean                    0.000494  \n",
       "std                     0.022223  \n",
       "min                     0.000000  \n",
       "25%                     0.000000  \n",
       "50%                     0.000000  \n",
       "75%                     0.000000  \n",
       "max                     1.000000  "
      ]
     },
     "execution_count": 79,
     "metadata": {},
     "output_type": "execute_result"
    }
   ],
   "source": [
    "#Statistical Summary of our data\n",
    "df.describe()"
   ]
  },
  {
   "cell_type": "code",
   "execution_count": 80,
   "metadata": {},
   "outputs": [
    {
     "data": {
      "text/plain": [
       "Index(['CRASH DATE', 'CRASH TIME', 'BOROUGH'], dtype='object')"
      ]
     },
     "execution_count": 80,
     "metadata": {},
     "output_type": "execute_result"
    }
   ],
   "source": [
    "#Checking categorical features in our dataset.\n",
    "\n",
    "categorical_features = df.select_dtypes(include=[np.object])\n",
    "categorical_features.columns"
   ]
  },
  {
   "cell_type": "code",
   "execution_count": 81,
   "metadata": {},
   "outputs": [
    {
     "data": {
      "text/plain": [
       "<AxesSubplot:>"
      ]
     },
     "execution_count": 81,
     "metadata": {},
     "output_type": "execute_result"
    },
    {
     "data": {
      "image/png": "[encoded data removed]",
      "text/plain": [
       "<Figure size 864x432 with 2 Axes>"
      ]
     },
     "metadata": {
      "needs_background": "light"
     },
     "output_type": "display_data"
    }
   ],
   "source": [
    "#Heatmap of our data\n",
    "\n",
    "fig, ax = plt.subplots(figsize=(12,6))\n",
    "sns.heatmap(df.corr(), annot=True, cmap=\"Reds\" )"
   ]
  },
  {
   "cell_type": "code",
   "execution_count": 82,
   "metadata": {},
   "outputs": [
    {
     "data": {
      "text/plain": [
       "CRASH DATE                          12/31/2020\n",
       "CRASH TIME                                9:59\n",
       "BOROUGH                          STATEN ISLAND\n",
       "LATITUDE                               40.9129\n",
       "LONGITUDE                                    0\n",
       "NUMBER OF PERSONS INJURED                   11\n",
       "NUMBER OF PERSONS KILLED                     1\n",
       "NUMBER OF PEDESTRIANS INJURED                4\n",
       "NUMBER OF PEDESTRIANS KILLED                 1\n",
       "NUMBER OF CYCLIST INJURED                    2\n",
       "NUMBER OF CYCLIST KILLED                     1\n",
       "NUMBER OF MOTORIST INJURED                  11\n",
       "NUMBER OF MOTORIST KILLED                    1\n",
       "dtype: object"
      ]
     },
     "execution_count": 82,
     "metadata": {},
     "output_type": "execute_result"
    }
   ],
   "source": [
    "df.max()"
   ]
  },
  {
   "cell_type": "code",
   "execution_count": 83,
   "metadata": {},
   "outputs": [
    {
     "data": {
      "text/plain": [
       "CRASH DATE                       01/01/2019\n",
       "CRASH TIME                             0:00\n",
       "BOROUGH                               BRONX\n",
       "LATITUDE                                  0\n",
       "LONGITUDE                          -74.2515\n",
       "NUMBER OF PERSONS INJURED                 0\n",
       "NUMBER OF PERSONS KILLED                  0\n",
       "NUMBER OF PEDESTRIANS INJURED             0\n",
       "NUMBER OF PEDESTRIANS KILLED              0\n",
       "NUMBER OF CYCLIST INJURED                 0\n",
       "NUMBER OF CYCLIST KILLED                  0\n",
       "NUMBER OF MOTORIST INJURED                0\n",
       "NUMBER OF MOTORIST KILLED                 0\n",
       "dtype: object"
      ]
     },
     "execution_count": 83,
     "metadata": {},
     "output_type": "execute_result"
    }
   ],
   "source": [
    "df.min()"
   ]
  },
  {
   "cell_type": "markdown",
   "metadata": {},
   "source": [
    "### Checking skewness ###"
   ]
  },
  {
   "cell_type": "code",
   "execution_count": 84,
   "metadata": {},
   "outputs": [
    {
     "data": {
      "text/plain": [
       "LATITUDE                        -20.253050\n",
       "LONGITUDE                        20.285802\n",
       "NUMBER OF PERSONS INJURED         3.215754\n",
       "NUMBER OF PERSONS KILLED         27.388695\n",
       "NUMBER OF PEDESTRIANS INJURED     4.354213\n",
       "NUMBER OF PEDESTRIANS KILLED     38.328134\n",
       "NUMBER OF CYCLIST INJURED         5.140774\n",
       "NUMBER OF CYCLIST KILLED         80.461170\n",
       "NUMBER OF MOTORIST INJURED        4.258316\n",
       "NUMBER OF MOTORIST KILLED        44.956231\n",
       "dtype: float64"
      ]
     },
     "execution_count": 84,
     "metadata": {},
     "output_type": "execute_result"
    }
   ],
   "source": [
    "#Checking skewness\n",
    "df.skew()"
   ]
  },
  {
   "cell_type": "markdown",
   "metadata": {},
   "source": [
    "### Checking Kurtosis ###"
   ]
  },
  {
   "cell_type": "code",
   "execution_count": 85,
   "metadata": {},
   "outputs": [
    {
     "data": {
      "text/plain": [
       "LATITUDE                          408.883399\n",
       "LONGITUDE                         409.766920\n",
       "NUMBER OF PERSONS INJURED          17.385345\n",
       "NUMBER OF PERSONS KILLED          748.186803\n",
       "NUMBER OF PEDESTRIANS INJURED      21.445086\n",
       "NUMBER OF PEDESTRIANS KILLED     1467.136482\n",
       "NUMBER OF CYCLIST INJURED          26.042699\n",
       "NUMBER OF CYCLIST KILLED         6472.399679\n",
       "NUMBER OF MOTORIST INJURED         26.667405\n",
       "NUMBER OF MOTORIST KILLED        2019.187442\n",
       "dtype: float64"
      ]
     },
     "execution_count": 85,
     "metadata": {},
     "output_type": "execute_result"
    }
   ],
   "source": [
    "#Checking kurtosis\n",
    "df.kurt()"
   ]
  },
  {
   "cell_type": "markdown",
   "metadata": {},
   "source": [
    "### Cities with their crime numbers ###"
   ]
  },
  {
   "cell_type": "code",
   "execution_count": 86,
   "metadata": {},
   "outputs": [
    {
     "data": {
      "image/png": "[encoded data removed]",
      "text/plain": [
       "<Figure size 864x432 with 1 Axes>"
      ]
     },
     "metadata": {
      "needs_background": "light"
     },
     "output_type": "display_data"
    }
   ],
   "source": [
    "#Cities with their crime numbers\n",
    "fig, ax = plt.subplots(figsize=(12,6))\n",
    "sns.countplot(x=df['BOROUGH'], data=df, ax=ax)\n",
    "plt.show()"
   ]
  },
  {
   "cell_type": "code",
   "execution_count": 88,
   "metadata": {},
   "outputs": [
    {
     "data": {
      "text/plain": [
       "array([2018, 2021, 2019, 2020, 2016], dtype=int64)"
      ]
     },
     "execution_count": 88,
     "metadata": {},
     "output_type": "execute_result"
    }
   ],
   "source": [
    "#Adding a new column for years\n",
    "df[\"CRASH DATE\"] = pd.to_datetime(df[\"CRASH DATE\"])\n",
    "df[\"year\"] = df[\"CRASH DATE\"].dt.year\n",
    "df[\"year\"].unique()"
   ]
  },
  {
   "cell_type": "code",
   "execution_count": 89,
   "metadata": {},
   "outputs": [
    {
     "data": {
      "text/plain": [
       "array([ 8, 12,  9,  5,  6,  7,  3, 10,  2, 11,  1,  4], dtype=int64)"
      ]
     },
     "execution_count": 89,
     "metadata": {},
     "output_type": "execute_result"
    }
   ],
   "source": [
    "#Adding a month column for months\n",
    "df[\"month\"] = df[\"CRASH DATE\"].dt.month\n",
    "df[\"month\"].unique()"
   ]
  },
  {
   "cell_type": "markdown",
   "metadata": {},
   "source": [
    "### Checking for number of collisions by year ###"
   ]
  },
  {
   "cell_type": "code",
   "execution_count": 90,
   "metadata": {},
   "outputs": [
    {
     "data": {
      "image/png": "[encoded data removed]",
      "text/plain": [
       "<Figure size 864x432 with 1 Axes>"
      ]
     },
     "metadata": {
      "needs_background": "light"
     },
     "output_type": "display_data"
    }
   ],
   "source": [
    "#Checking for number of collisions by year\n",
    "fig, ax = plt.subplots(figsize=(12,6))\n",
    "sns.countplot(x=df['year'], data=df, ax=ax)\n",
    "plt.show()"
   ]
  },
  {
   "cell_type": "markdown",
   "metadata": {},
   "source": [
    "### Checking for number of collisions by month ###"
   ]
  },
  {
   "cell_type": "code",
   "execution_count": null,
   "metadata": {},
   "outputs": [],
   "source": [
    "#Checking for number of collisions by month\n",
    "fig, ax = plt.subplots(figsize=(12,6))\n",
    "sns.countplot(x=df['month'], data=df, ax=ax)\n",
    "plt.show()"
   ]
  },
  {
   "cell_type": "code",
   "execution_count": null,
   "metadata": {},
   "outputs": [],
   "source": [
    "persons_killed_by_year = df.groupby(\"year\")[\"NUMBER OF PERSONS KILLED\"].sum()\n",
    "persons_killed_by_year"
   ]
  },
  {
   "cell_type": "markdown",
   "metadata": {},
   "source": [
    "### Pie chart for persons killed by year ###"
   ]
  },
  {
   "cell_type": "code",
   "execution_count": 91,
   "metadata": {},
   "outputs": [
    {
     "data": {
      "text/plain": [
       "([<matplotlib.patches.Wedge at 0x15d1ee954c0>,\n",
       "  <matplotlib.patches.Wedge at 0x15d1ee95b50>,\n",
       "  <matplotlib.patches.Wedge at 0x15d1ee6d220>,\n",
       "  <matplotlib.patches.Wedge at 0x15d1ee6d8b0>,\n",
       "  <matplotlib.patches.Wedge at 0x15d1ee6df40>],\n",
       " [Text(1.1, 0.0, '2016'),\n",
       "  Text(0.8899186877588753, 0.6465637858537406, '2018'),\n",
       "  Text(-0.4049370232742901, 1.0227541284110062, '2019'),\n",
       "  Text(-0.9639373540021144, -0.5299290306818474, '2020'),\n",
       "  Text(0.7530017654698314, -0.8018655381043116, '2021')],\n",
       " [Text(0.6, 0.0, '0.0%'),\n",
       "  Text(0.4854101933230228, 0.35267115592022213, '20.0%'),\n",
       "  Text(-0.22087473996779458, 0.5578658882241851, '22.0%'),\n",
       "  Text(-0.5257840112738805, -0.28905219855373493, '32.0%'),\n",
       "  Text(0.4107282357108171, -0.43738120260235175, '26.0%')])"
      ]
     },
     "execution_count": 91,
     "metadata": {},
     "output_type": "execute_result"
    },
    {
     "data": {
      "image/png": "[encoded data removed]",
      "text/plain": [
       "<Figure size 432x288 with 1 Axes>"
      ]
     },
     "metadata": {},
     "output_type": "display_data"
    }
   ],
   "source": [
    "#Pie chart for persons killed by year\n",
    "plt.pie(persons_killed_by_year, labels=[\"2016\", \"2018\", \"2019\", \"2020\", \"2021\"], autopct='%1.1f%%')"
   ]
  },
  {
   "cell_type": "markdown",
   "metadata": {},
   "source": [
    "<h1> <center> --- THE END --- </h1>"
   ]
  },
  {
   "cell_type": "code",
   "execution_count": null,
   "metadata": {},
   "outputs": [],
   "source": []
  }
 ],
 "metadata": {
  "kernelspec": {
   "display_name": "Python 3",
   "language": "python",
   "name": "python3"
  },
  "language_info": {
   "codemirror_mode": {
    "name": "ipython",
    "version": 3
   },
   "file_extension": ".py",
   "mimetype": "text/x-python",
   "name": "python",
   "nbconvert_exporter": "python",
   "pygments_lexer": "ipython3",
   "version": "3.8.2 (default, Dec 21 2020, 15:06:04) \n[Clang 12.0.0 (clang-1200.0.32.29)]"
  },
  "vscode": {
   "interpreter": {
    "hash": "31f2aee4e71d21fbe5cf8b01ff0e069b9275f58929596ceb00d14d90e3e16cd6"
   }
  }
 },
 "nbformat": 4,
 "nbformat_minor": 4
}
